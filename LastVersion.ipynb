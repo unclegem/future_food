{
 "cells": [
  {
   "cell_type": "code",
   "execution_count": 1,
   "metadata": {},
   "outputs": [],
   "source": [
    "import pickle\n",
    "import pandas as pd\n",
    "import numpy as np\n",
    "import nltk\n",
    "import gensim \n",
    "import string\n",
    "from gensim.models import LdaModel\n",
    "from gensim.corpora import Dictionary\n",
    "pd.set_option('display.max_colwidth', 500)"
   ]
  },
  {
   "cell_type": "code",
   "execution_count": 2,
   "metadata": {},
   "outputs": [],
   "source": [
    "with open('outputs.pickle', 'rb') as handle:\n",
    "    outputs = pickle.load(handle)\n",
    "train = outputs['df_train_merge']\n",
    "test = outputs['df_test_merge']"
   ]
  },
  {
   "cell_type": "code",
   "execution_count": 3,
   "metadata": {},
   "outputs": [
    {
     "data": {
      "text/plain": [
       "Index(['Date', 'Time', 'Training/Test', 'Title', 'Link', 'Abstract',\n",
       "       'tweet_id', 'external_url', 'tweet_found', 'user_name', 'mentions',\n",
       "       'medias', 'hashtags', 'in_reply_to_status_id',\n",
       "       'in_reply_to_screen_name', 'in_reply_to_status_text',\n",
       "       'external_url_title', 'New_Title', 'ab_clean', 'numbers', 'zero_length',\n",
       "       'nouns', 'neg_noun_I', 'neg_noun_you', 'neg_noun_i', 'neg_noun_me',\n",
       "       'neg_noun_we', 'neg_noun_they', 'neg_noun_It', 'neg_noun_You', 'nnp',\n",
       "       'word_recall', 'word_alert', 'word_allergy', 'word_outbreak',\n",
       "       'hashtag_RECALL', 'hashtag_Recall', 'hashtag_SmartNews',\n",
       "       'mention_googlenews', 'num_words', 'user_name_words',\n",
       "       'user_name_word_News', 'has_media', 'question_mark', 'preds',\n",
       "       'pred_probs', 'has_recall'],\n",
       "      dtype='object')"
      ]
     },
     "execution_count": 3,
     "metadata": {},
     "output_type": "execute_result"
    }
   ],
   "source": [
    "test.columns"
   ]
  },
  {
   "cell_type": "markdown",
   "metadata": {},
   "source": [
    "# 新增Predicted Event ID列"
   ]
  },
  {
   "cell_type": "code",
   "execution_count": 4,
   "metadata": {},
   "outputs": [],
   "source": [
    "test['Predicted Event ID'] = np.NaN"
   ]
  },
  {
   "cell_type": "markdown",
   "metadata": {},
   "source": [
    " # 移除爬取到的title中一些XXX on Twitter等无用词"
   ]
  },
  {
   "cell_type": "code",
   "execution_count": 5,
   "metadata": {},
   "outputs": [],
   "source": [
    "def remove_pre(text):\n",
    "    text = str(text)\n",
    "    index = text.find(\":\")\n",
    "    if index != -1:\n",
    "        return text[index + 1:]\n",
    "    else:\n",
    "        return text"
   ]
  },
  {
   "cell_type": "code",
   "execution_count": 6,
   "metadata": {},
   "outputs": [],
   "source": [
    "test['New_Title'] = test['New_Title'].apply(remove_pre)"
   ]
  },
  {
   "cell_type": "markdown",
   "metadata": {},
   "source": [
    "# 第一次分词：从整个TestSet中找出垃圾词"
   ]
  },
  {
   "cell_type": "code",
   "execution_count": 7,
   "metadata": {},
   "outputs": [],
   "source": [
    "def getTokens_noGarbage(all_command):\n",
    "    handle_all_command = []\n",
    "    lines = all_command.tolist()\n",
    "    stopwords = set(nltk.corpus.stopwords.words(\"english\"))\n",
    "    table = str.maketrans(\"\",\"\",string.punctuation)\n",
    "    for line in lines:\n",
    "        line = \" \".join([word for word in str(line).split(\" \") if '@' not in word and 'http' not in word and \"RT\" not in word])\n",
    "        tokens = nltk.word_tokenize(line)\n",
    "        tokens = [w.lower() for w in tokens]\n",
    "        tokens = [w.translate(table) for w in tokens]\n",
    "        tokens = [w for w in tokens if w.isalpha()]\n",
    "        tokens = [w for w in tokens if w not in stopwords]\n",
    "        handle_all_command.append(tokens)\n",
    "    return handle_all_command"
   ]
  },
  {
   "cell_type": "code",
   "execution_count": 8,
   "metadata": {},
   "outputs": [
    {
     "name": "stdout",
     "output_type": "stream",
     "text": [
      "CPU times: user 5.18 s, sys: 21.1 ms, total: 5.21 s\n",
      "Wall time: 5.21 s\n"
     ]
    }
   ],
   "source": [
    "%time tokens = getTokens_noGarbage(test[\"New_Title\"]) "
   ]
  },
  {
   "cell_type": "markdown",
   "metadata": {},
   "source": [
    "# 将词频小于等于3的或者单词长度<3的单词作为垃圾词添"
   ]
  },
  {
   "cell_type": "code",
   "execution_count": 9,
   "metadata": {},
   "outputs": [],
   "source": [
    "from collections import Counter\n",
    "\n",
    "freq = Counter()\n",
    "for ab in tokens:\n",
    "    freq.update(ab)\n",
    "    \n",
    "garbage = []\n",
    "for k, v in freq.items():\n",
    "    if v <= 3 or len(k) < 3:\n",
    "        garbage.append(k)"
   ]
  },
  {
   "cell_type": "markdown",
   "metadata": {},
   "source": [
    "# 对数据进行二次分词，这次剔除掉垃圾词"
   ]
  },
  {
   "cell_type": "code",
   "execution_count": 10,
   "metadata": {},
   "outputs": [],
   "source": [
    "def getTokens_withGarbage(all_command):\n",
    "    handle_all_command = []\n",
    "    lines = all_command.tolist()\n",
    "    stopwords = set(nltk.corpus.stopwords.words(\"english\"))\n",
    "    table = str.maketrans(\"\",\"\",string.punctuation)\n",
    "    for line in lines:\n",
    "        line = \" \".join([word for word in str(line).split(\" \") if '@' not in word and 'http' not in word and \"RT\" not in word])\n",
    "        tokens = nltk.word_tokenize(line)\n",
    "        tokens = [w.lower() for w in tokens]\n",
    "        tokens = [w.translate(table) for w in tokens]\n",
    "        tokens = [w for w in tokens if w.isalpha()]\n",
    "        tokens = [w for w in tokens if w not in stopwords and w not in garbage]\n",
    "        handle_all_command.append(tokens)\n",
    "    return handle_all_command"
   ]
  },
  {
   "cell_type": "code",
   "execution_count": 11,
   "metadata": {},
   "outputs": [
    {
     "name": "stdout",
     "output_type": "stream",
     "text": [
      "CPU times: user 1min 25s, sys: 204 ms, total: 1min 25s\n",
      "Wall time: 1min 25s\n"
     ]
    }
   ],
   "source": [
    "%time test['tokens'] = getTokens_withGarbage(test[\"New_Title\"])\n",
    "test['len'] = [len(to) for to in test['tokens']]"
   ]
  },
  {
   "cell_type": "markdown",
   "metadata": {},
   "source": [
    "# 将所有分词个数<=3的record的预测值置False"
   ]
  },
  {
   "cell_type": "code",
   "execution_count": 12,
   "metadata": {},
   "outputs": [
    {
     "name": "stdout",
     "output_type": "stream",
     "text": [
      "2289 2225\n"
     ]
    }
   ],
   "source": [
    "print(len(test[test['preds'] == True]), len(test[(test['preds'] == True) & (test['len'] > 3)]))"
   ]
  },
  {
   "cell_type": "code",
   "execution_count": 13,
   "metadata": {},
   "outputs": [
    {
     "data": {
      "text/plain": [
       "2225"
      ]
     },
     "execution_count": 13,
     "metadata": {},
     "output_type": "execute_result"
    }
   ],
   "source": [
    "test.loc[test['len'] <= 3, 'preds'] = np.False_\n",
    "len(test[test['preds'] == True])"
   ]
  },
  {
   "cell_type": "markdown",
   "metadata": {},
   "source": [
    "# 用LDA-mallet模型把preds为True的record进行话题分析"
   ]
  },
  {
   "cell_type": "code",
   "execution_count": 41,
   "metadata": {},
   "outputs": [],
   "source": [
    "all_sent = test[test['preds'] == True]['tokens']\n",
    "dic = Dictionary(all_sent)\n",
    "corpus = [dic.doc2bow(text) for text in all_sent]\n",
    "\n",
    "# %time lda = LdaModel(corpus=corpus, id2word=dic, num_topics=14, passes=100, random_state=42) "
   ]
  },
  {
   "cell_type": "code",
   "execution_count": 45,
   "metadata": {},
   "outputs": [],
   "source": [
    "mallet_path = 'mallet-2.0.8/bin/mallet' # update this path"
   ]
  },
  {
   "cell_type": "markdown",
   "metadata": {},
   "source": [
    "# 通过计算coherence来选出得分高的模型"
   ]
  },
  {
   "cell_type": "code",
   "execution_count": 53,
   "metadata": {},
   "outputs": [],
   "source": [
    "from gensim.models import CoherenceModel\n",
    "def compute_coherence_values(dictionary, corpus, texts, limit, start=10, step=1):\n",
    "    \n",
    "    coherence_values = []\n",
    "    model_list = []\n",
    "    for num_topics in range(start, limit + 1, step):\n",
    "        model = gensim.models.wrappers.LdaMallet(mallet_path, corpus=corpus, num_topics=num_topics, id2word=dictionary)\n",
    "        model_list.append(model)\n",
    "        coherencemodel = CoherenceModel(model=model, texts=texts, dictionary=dictionary, coherence='c_v')\n",
    "        coherence_values.append(coherencemodel.get_coherence())\n",
    "\n",
    "    return model_list, coherence_values"
   ]
  },
  {
   "cell_type": "code",
   "execution_count": 54,
   "metadata": {},
   "outputs": [
    {
     "name": "stdout",
     "output_type": "stream",
     "text": [
      "CPU times: user 12.5 s, sys: 920 ms, total: 13.4 s\n",
      "Wall time: 7min 4s\n"
     ]
    }
   ],
   "source": [
    "%time model_list, coherence_values = compute_coherence_values(dictionary=dic, corpus=corpus, texts=all_sent, start=10, limit=20, step=1)\n"
   ]
  },
  {
   "cell_type": "code",
   "execution_count": 55,
   "metadata": {
    "scrolled": true
   },
   "outputs": [
    {
     "data": {
      "image/png": "[encoded data removed]",
      "text/plain": [
       "<Figure size 432x288 with 1 Axes>"
      ]
     },
     "metadata": {
      "needs_background": "light"
     },
     "output_type": "display_data"
    }
   ],
   "source": [
    "import matplotlib.pyplot as plt\n",
    "\n",
    "limit=20; start=10; step=1;\n",
    "x = range(start, limit + 1, step)\n",
    "plt.plot(x, coherence_values)\n",
    "plt.xlabel(\"Num Topics\")\n",
    "plt.ylabel(\"Coherence score\")\n",
    "plt.legend((\"coherence_values\"), loc='best')\n",
    "plt.show()"
   ]
  },
  {
   "cell_type": "markdown",
   "metadata": {},
   "source": [
    "# 取17作为topic数"
   ]
  },
  {
   "cell_type": "code",
   "execution_count": 58,
   "metadata": {},
   "outputs": [],
   "source": [
    "lda = model_list[-4]"
   ]
  },
  {
   "cell_type": "code",
   "execution_count": 69,
   "metadata": {},
   "outputs": [
    {
     "data": {
      "text/plain": [
       "[(0,\n",
       "  '0.350*\"food\" + 0.084*\"safety\" + 0.026*\"unsafe\" + 0.020*\"launched\" + 0.017*\"tools\" + 0.016*\"allergy\" + 0.016*\"businesses\" + 0.016*\"people\" + 0.016*\"withdrawing\" + 0.015*\"allergies\"'),\n",
       " (1,\n",
       "  '0.368*\"due\" + 0.248*\"salmonella\" + 0.230*\"contamination\" + 0.020*\"potential\" + 0.017*\"concerns\" + 0.006*\"bakers\" + 0.005*\"word\" + 0.004*\"columbus\" + 0.004*\"safe\" + 0.004*\"companies\"'),\n",
       " (2,\n",
       "  '0.266*\"salmonella\" + 0.257*\"due\" + 0.209*\"concerns\" + 0.052*\"pounds\" + 0.032*\"announced\" + 0.014*\"traces\" + 0.013*\"sausage\" + 0.013*\"bag\" + 0.012*\"pork\" + 0.011*\"tampering\"'),\n",
       " (3,\n",
       "  '0.121*\"unbleached\" + 0.108*\"recall\" + 0.092*\"company\" + 0.079*\"select\" + 0.066*\"hometown\" + 0.064*\"purpose\" + 0.043*\"food\" + 0.040*\"allpurpose\" + 0.040*\"voluntary\" + 0.028*\"announced\"'),\n",
       " (4,\n",
       "  '0.317*\"recall\" + 0.096*\"product\" + 0.025*\"fda\" + 0.025*\"brand\" + 0.024*\"popular\" + 0.023*\"affected\" + 0.019*\"lots\" + 0.017*\"parent\" + 0.015*\"news\" + 0.015*\"potentially\"'),\n",
       " (5,\n",
       "  '0.267*\"turkey\" + 0.187*\"ground\" + 0.186*\"butterball\" + 0.066*\"tons\" + 0.063*\"outbreak\" + 0.034*\"kroger\" + 0.020*\"leads\" + 0.019*\"found\" + 0.018*\"linked\" + 0.012*\"patch\"'),\n",
       " (6,\n",
       "  '0.251*\"flour\" + 0.234*\"pillsbury\" + 0.197*\"salmonella\" + 0.130*\"recalled\" + 0.021*\"consumer\" + 0.020*\"reports\" + 0.012*\"thousands\" + 0.007*\"made\" + 0.005*\"cooking\" + 0.003*\"chips\"'),\n",
       " (7,\n",
       "  '0.244*\"cases\" + 0.139*\"recalled\" + 0.125*\"flour\" + 0.115*\"pillsbury\" + 0.094*\"salmonella\" + 0.068*\"trace\" + 0.037*\"york\" + 0.023*\"cnn\" + 0.021*\"times\" + 0.011*\"nyt\"'),\n",
       " (8,\n",
       "  '0.140*\"fears\" + 0.129*\"publix\" + 0.126*\"flour\" + 0.118*\"winndixie\" + 0.091*\"sold\" + 0.031*\"alert\" + 0.029*\"cbs\" + 0.029*\"stores\" + 0.028*\"including\" + 0.026*\"lion\"'),\n",
       " (9,\n",
       "  '0.252*\"pounds\" + 0.219*\"turkey\" + 0.217*\"butterball\" + 0.184*\"ground\" + 0.042*\"recalling\" + 0.014*\"raw\" + 0.002*\"hazard\" + 0.002*\"worth\" + 0.002*\"practice\" + 0.002*\"things\"'),\n",
       " (10,\n",
       "  '0.533*\"recalls\" + 0.055*\"march\" + 0.035*\"foodsafety\" + 0.031*\"story\" + 0.029*\"health\" + 0.028*\"coli\" + 0.025*\"cheese\" + 0.020*\"info\" + 0.017*\"french\" + 0.010*\"wttg\"'),\n",
       " (11,\n",
       "  '0.085*\"chicken\" + 0.081*\"rice\" + 0.075*\"undeclared\" + 0.064*\"allergens\" + 0.059*\"products\" + 0.048*\"boyardee\" + 0.047*\"chef\" + 0.046*\"news\" + 0.044*\"misbranding\" + 0.041*\"fried\"'),\n",
       " (12,\n",
       "  '0.368*\"recall\" + 0.118*\"flour\" + 0.095*\"pillsbury\" + 0.064*\"issued\" + 0.063*\"nationwide\" + 0.052*\"salmonella\" + 0.020*\"grocery\" + 0.020*\"issues\" + 0.016*\"chains\" + 0.014*\"store\"'),\n",
       " (13,\n",
       "  '0.206*\"pillsbury\" + 0.176*\"flour\" + 0.150*\"salmonella\" + 0.137*\"risk\" + 0.132*\"recalled\" + 0.038*\"packages\" + 0.030*\"grocers\" + 0.009*\"reportedly\" + 0.007*\"daily\" + 0.006*\"listeria\"'),\n",
       " (14,\n",
       "  '0.298*\"pillsbury\" + 0.218*\"flour\" + 0.152*\"recalled\" + 0.102*\"salmonella\" + 0.069*\"cases\" + 0.019*\"dog\" + 0.014*\"diet\" + 0.010*\"hill\" + 0.010*\"voluntarily\" + 0.008*\"dry\"'),\n",
       " (15,\n",
       "  '0.277*\"salmonella\" + 0.246*\"recalled\" + 0.181*\"concerns\" + 0.097*\"news\" + 0.026*\"fears\" + 0.012*\"report\" + 0.008*\"nbc\" + 0.007*\"breaking\" + 0.007*\"herald\" + 0.006*\"world\"'),\n",
       " (16,\n",
       "  '0.235*\"products\" + 0.099*\"recalling\" + 0.070*\"contaminated\" + 0.065*\"raw\" + 0.058*\"check\" + 0.052*\"schwarzengrund\" + 0.050*\"contamination\" + 0.039*\"llc\" + 0.020*\"approximately\" + 0.018*\"usda\"')]"
      ]
     },
     "execution_count": 69,
     "metadata": {},
     "output_type": "execute_result"
    }
   ],
   "source": [
    "lda.print_topics(num_topics=17, num_words=10)"
   ]
  },
  {
   "cell_type": "markdown",
   "metadata": {},
   "source": [
    "# 将数据合并到整个TestSet"
   ]
  },
  {
   "cell_type": "code",
   "execution_count": 59,
   "metadata": {},
   "outputs": [],
   "source": [
    "predID = []\n",
    "for x in lda[corpus]:\n",
    "    predID.append(sorted(x, key=lambda y: y[1], reverse=True)[0][0])"
   ]
  },
  {
   "cell_type": "code",
   "execution_count": 60,
   "metadata": {},
   "outputs": [],
   "source": [
    "test.loc[test['preds'] == True, \"Predicted Event ID\"] = predID"
   ]
  },
  {
   "cell_type": "code",
   "execution_count": 61,
   "metadata": {},
   "outputs": [
    {
     "data": {
      "text/html": [
       "<div>\n",
       "<style scoped>\n",
       "    .dataframe tbody tr th:only-of-type {\n",
       "        vertical-align: middle;\n",
       "    }\n",
       "\n",
       "    .dataframe tbody tr th {\n",
       "        vertical-align: top;\n",
       "    }\n",
       "\n",
       "    .dataframe thead th {\n",
       "        text-align: right;\n",
       "    }\n",
       "</style>\n",
       "<table border=\"1\" class=\"dataframe\">\n",
       "  <thead>\n",
       "    <tr style=\"text-align: right;\">\n",
       "      <th></th>\n",
       "      <th>Date</th>\n",
       "      <th>Time</th>\n",
       "      <th>Training/Test</th>\n",
       "      <th>Title</th>\n",
       "      <th>Link</th>\n",
       "      <th>Abstract</th>\n",
       "      <th>tweet_id</th>\n",
       "      <th>external_url</th>\n",
       "      <th>tweet_found</th>\n",
       "      <th>user_name</th>\n",
       "      <th>...</th>\n",
       "      <th>user_name_words</th>\n",
       "      <th>user_name_word_News</th>\n",
       "      <th>has_media</th>\n",
       "      <th>question_mark</th>\n",
       "      <th>preds</th>\n",
       "      <th>pred_probs</th>\n",
       "      <th>has_recall</th>\n",
       "      <th>Predicted Event ID</th>\n",
       "      <th>tokens</th>\n",
       "      <th>len</th>\n",
       "    </tr>\n",
       "  </thead>\n",
       "  <tbody>\n",
       "    <tr>\n",
       "      <th>20749</th>\n",
       "      <td>2019-03-14</td>\n",
       "      <td>04:40:44</td>\n",
       "      <td>Test</td>\n",
       "      <td>Genetics of Food Allergy and Intolerance White blood cellular styles decided genetically and targeted as HLA DQ and…</td>\n",
       "      <td>https://twitter.com/tweet/status/1106052519019597825</td>\n",
       "      <td>Genetics of Food Allergy and Intolerance White blood cellular styles decided genetically and targeted as HLA DQ and… https://t.co/du0uK2rFXX</td>\n",
       "      <td>1106052519019597825</td>\n",
       "      <td>https://t.co/du0uK2rFXX</td>\n",
       "      <td>True</td>\n",
       "      <td>didbijckidas</td>\n",
       "      <td>...</td>\n",
       "      <td>[didbijckidas]</td>\n",
       "      <td>False</td>\n",
       "      <td>False</td>\n",
       "      <td>0</td>\n",
       "      <td>True</td>\n",
       "      <td>0.736000</td>\n",
       "      <td>False</td>\n",
       "      <td>0.0</td>\n",
       "      <td>[food, allergy, white, blood, styles, decided, genetically, targeted, genes, recognized, extended, hazard, pollen, dust, meals]</td>\n",
       "      <td>15</td>\n",
       "    </tr>\n",
       "    <tr>\n",
       "      <th>15867</th>\n",
       "      <td>2019-03-13</td>\n",
       "      <td>13:31:34</td>\n",
       "      <td>Test</td>\n",
       "      <td>Montreal bakery recalls food as being unsafe https://t.co/gA1dvcrzRr</td>\n",
       "      <td>https://twitter.com/tweet/status/1105823719287484416</td>\n",
       "      <td>Montreal bakery recalls food as being unsafe https://t.co/gA1dvcrzRr https://t.co/bakuQV5JDh</td>\n",
       "      <td>1105823719287484416</td>\n",
       "      <td>https://t.co/bakuQV5JDh</td>\n",
       "      <td>True</td>\n",
       "      <td>CTV Montreal</td>\n",
       "      <td>...</td>\n",
       "      <td>[CTV, Montreal]</td>\n",
       "      <td>False</td>\n",
       "      <td>True</td>\n",
       "      <td>0</td>\n",
       "      <td>True</td>\n",
       "      <td>0.964088</td>\n",
       "      <td>True</td>\n",
       "      <td>0.0</td>\n",
       "      <td>[montreal, bakery, recalls, food, unsafe]</td>\n",
       "      <td>5</td>\n",
       "    </tr>\n",
       "    <tr>\n",
       "      <th>7071</th>\n",
       "      <td>2019-03-09</td>\n",
       "      <td>00:41:51</td>\n",
       "      <td>Test</td>\n",
       "      <td>RT @FAOWHOCodex: ?? | @SteveWearne Vice-Chair of #CodexAlimentarius at #gfsi19 talking about #food, food allergies, #foodsafety, priorities…</td>\n",
       "      <td>https://twitter.com/tweet/status/1104180463197929472</td>\n",
       "      <td>RT @FAOWHOCodex: ?? | @SteveWearne Vice-Chair of #CodexAlimentarius at #gfsi19 talking about #food, food allergies, #foodsafety, priorities…</td>\n",
       "      <td>1104180463197929472</td>\n",
       "      <td>None</td>\n",
       "      <td>True</td>\n",
       "      <td>Anne Gerardi</td>\n",
       "      <td>...</td>\n",
       "      <td>[Anne, Gerardi]</td>\n",
       "      <td>False</td>\n",
       "      <td>False</td>\n",
       "      <td>2</td>\n",
       "      <td>True</td>\n",
       "      <td>0.668428</td>\n",
       "      <td>False</td>\n",
       "      <td>0.0</td>\n",
       "      <td>[codexalimentarius, talking, food, food, allergies, foodsafety]</td>\n",
       "      <td>6</td>\n",
       "    </tr>\n",
       "    <tr>\n",
       "      <th>7323</th>\n",
       "      <td>2019-03-10</td>\n",
       "      <td>22:14:32</td>\n",
       "      <td>Test</td>\n",
       "      <td>Urgent recall: Tesco, Asda, &amp; Lidl issue food safety fears – FULL LIST of affected foods https://t.co/WhOCGFLwZj</td>\n",
       "      <td>https://twitter.com/tweet/status/1104868164301668352</td>\n",
       "      <td>Urgent recall: Tesco, Asda, &amp; Lidl issue food safety fears – FULL LIST of affected foods https://t.co/WhOCGFLwZj https://t.co/2AKppnHMGG</td>\n",
       "      <td>1104868164301668352</td>\n",
       "      <td>https://t.co/2AKppnHMGG</td>\n",
       "      <td>True</td>\n",
       "      <td>Newslanes</td>\n",
       "      <td>...</td>\n",
       "      <td>[Newslanes]</td>\n",
       "      <td>False</td>\n",
       "      <td>True</td>\n",
       "      <td>0</td>\n",
       "      <td>True</td>\n",
       "      <td>0.964088</td>\n",
       "      <td>True</td>\n",
       "      <td>0.0</td>\n",
       "      <td>[urgent, recall, asda, lidl, issue, food, safety, fears, full, list, affected, foods]</td>\n",
       "      <td>12</td>\n",
       "    </tr>\n",
       "    <tr>\n",
       "      <th>11617</th>\n",
       "      <td>2019-03-12</td>\n",
       "      <td>21:20:41</td>\n",
       "      <td>Test</td>\n",
       "      <td>so now that alabama wants to be drug test food stamp recipients, let's fondly recall how unsuccessful that was in f…</td>\n",
       "      <td>https://twitter.com/tweet/status/1105579388865785856</td>\n",
       "      <td>so now that alabama wants to be drug test food stamp recipients, let's fondly recall how unsuccessful that was in f… https://t.co/OOf84MpqyG</td>\n",
       "      <td>1105579388865785856</td>\n",
       "      <td>https://t.co/OOf84MpqyG</td>\n",
       "      <td>False</td>\n",
       "      <td></td>\n",
       "      <td>...</td>\n",
       "      <td>[]</td>\n",
       "      <td>False</td>\n",
       "      <td>False</td>\n",
       "      <td>0</td>\n",
       "      <td>True</td>\n",
       "      <td>0.766051</td>\n",
       "      <td>True</td>\n",
       "      <td>0.0</td>\n",
       "      <td>[alabama, wants, drug, test, food, stamp, recipients, let, recall]</td>\n",
       "      <td>9</td>\n",
       "    </tr>\n",
       "  </tbody>\n",
       "</table>\n",
       "<p>5 rows × 50 columns</p>\n",
       "</div>"
      ],
      "text/plain": [
       "             Date      Time Training/Test  \\\n",
       "20749  2019-03-14  04:40:44          Test   \n",
       "15867  2019-03-13  13:31:34          Test   \n",
       "7071   2019-03-09  00:41:51          Test   \n",
       "7323   2019-03-10  22:14:32          Test   \n",
       "11617  2019-03-12  21:20:41          Test   \n",
       "\n",
       "                                                                                                                                              Title  \\\n",
       "20749                          Genetics of Food Allergy and Intolerance White blood cellular styles decided genetically and targeted as HLA DQ and…   \n",
       "15867                                                                          Montreal bakery recalls food as being unsafe https://t.co/gA1dvcrzRr   \n",
       "7071   RT @FAOWHOCodex: ?? | @SteveWearne Vice-Chair of #CodexAlimentarius at #gfsi19 talking about #food, food allergies, #foodsafety, priorities…   \n",
       "7323                               Urgent recall: Tesco, Asda, & Lidl issue food safety fears – FULL LIST of affected foods https://t.co/WhOCGFLwZj   \n",
       "11617                          so now that alabama wants to be drug test food stamp recipients, let's fondly recall how unsuccessful that was in f…   \n",
       "\n",
       "                                                       Link  \\\n",
       "20749  https://twitter.com/tweet/status/1106052519019597825   \n",
       "15867  https://twitter.com/tweet/status/1105823719287484416   \n",
       "7071   https://twitter.com/tweet/status/1104180463197929472   \n",
       "7323   https://twitter.com/tweet/status/1104868164301668352   \n",
       "11617  https://twitter.com/tweet/status/1105579388865785856   \n",
       "\n",
       "                                                                                                                                           Abstract  \\\n",
       "20749  Genetics of Food Allergy and Intolerance White blood cellular styles decided genetically and targeted as HLA DQ and… https://t.co/du0uK2rFXX   \n",
       "15867                                                  Montreal bakery recalls food as being unsafe https://t.co/gA1dvcrzRr https://t.co/bakuQV5JDh   \n",
       "7071   RT @FAOWHOCodex: ?? | @SteveWearne Vice-Chair of #CodexAlimentarius at #gfsi19 talking about #food, food allergies, #foodsafety, priorities…   \n",
       "7323       Urgent recall: Tesco, Asda, & Lidl issue food safety fears – FULL LIST of affected foods https://t.co/WhOCGFLwZj https://t.co/2AKppnHMGG   \n",
       "11617  so now that alabama wants to be drug test food stamp recipients, let's fondly recall how unsuccessful that was in f… https://t.co/OOf84MpqyG   \n",
       "\n",
       "                  tweet_id             external_url tweet_found     user_name  \\\n",
       "20749  1106052519019597825  https://t.co/du0uK2rFXX        True  didbijckidas   \n",
       "15867  1105823719287484416  https://t.co/bakuQV5JDh        True  CTV Montreal   \n",
       "7071   1104180463197929472                     None        True  Anne Gerardi   \n",
       "7323   1104868164301668352  https://t.co/2AKppnHMGG        True     Newslanes   \n",
       "11617  1105579388865785856  https://t.co/OOf84MpqyG       False                 \n",
       "\n",
       "       ...  user_name_words user_name_word_News has_media  question_mark  \\\n",
       "20749  ...   [didbijckidas]               False     False              0   \n",
       "15867  ...  [CTV, Montreal]               False      True              0   \n",
       "7071   ...  [Anne, Gerardi]               False     False              2   \n",
       "7323   ...      [Newslanes]               False      True              0   \n",
       "11617  ...               []               False     False              0   \n",
       "\n",
       "      preds pred_probs has_recall Predicted Event ID  \\\n",
       "20749  True   0.736000      False                0.0   \n",
       "15867  True   0.964088       True                0.0   \n",
       "7071   True   0.668428      False                0.0   \n",
       "7323   True   0.964088       True                0.0   \n",
       "11617  True   0.766051       True                0.0   \n",
       "\n",
       "                                                                                                                                tokens  \\\n",
       "20749  [food, allergy, white, blood, styles, decided, genetically, targeted, genes, recognized, extended, hazard, pollen, dust, meals]   \n",
       "15867                                                                                        [montreal, bakery, recalls, food, unsafe]   \n",
       "7071                                                                   [codexalimentarius, talking, food, food, allergies, foodsafety]   \n",
       "7323                                             [urgent, recall, asda, lidl, issue, food, safety, fears, full, list, affected, foods]   \n",
       "11617                                                               [alabama, wants, drug, test, food, stamp, recipients, let, recall]   \n",
       "\n",
       "      len  \n",
       "20749  15  \n",
       "15867   5  \n",
       "7071    6  \n",
       "7323   12  \n",
       "11617   9  \n",
       "\n",
       "[5 rows x 50 columns]"
      ]
     },
     "execution_count": 61,
     "metadata": {},
     "output_type": "execute_result"
    }
   ],
   "source": [
    "test.sort_values(\"Predicted Event ID\").head(5)"
   ]
  },
  {
   "cell_type": "markdown",
   "metadata": {},
   "source": [
    "# 写入csv文件"
   ]
  },
  {
   "cell_type": "code",
   "execution_count": 62,
   "metadata": {},
   "outputs": [],
   "source": [
    "toCsv = test[test['preds'] == True]"
   ]
  },
  {
   "cell_type": "code",
   "execution_count": 63,
   "metadata": {},
   "outputs": [],
   "source": [
    "top_3_topic_score = []\n",
    "for x in lda[corpus]:\n",
    "    top_3_topic_score.append(sorted(x, key=lambda y: y[1], reverse=True)[0: 3])"
   ]
  },
  {
   "cell_type": "code",
   "execution_count": 64,
   "metadata": {},
   "outputs": [
    {
     "name": "stderr",
     "output_type": "stream",
     "text": [
      "/Library/Frameworks/Python.framework/Versions/3.7/lib/python3.7/site-packages/ipykernel_launcher.py:1: SettingWithCopyWarning: \n",
      "A value is trying to be set on a copy of a slice from a DataFrame.\n",
      "Try using .loc[row_indexer,col_indexer] = value instead\n",
      "\n",
      "See the caveats in the documentation: http://pandas.pydata.org/pandas-docs/stable/indexing.html#indexing-view-versus-copy\n",
      "  \"\"\"Entry point for launching an IPython kernel.\n"
     ]
    }
   ],
   "source": [
    "toCsv['top_3_topic_score'] = top_3_topic_score"
   ]
  },
  {
   "cell_type": "code",
   "execution_count": 65,
   "metadata": {
    "scrolled": true
   },
   "outputs": [
    {
     "data": {
      "text/html": [
       "<div>\n",
       "<style scoped>\n",
       "    .dataframe tbody tr th:only-of-type {\n",
       "        vertical-align: middle;\n",
       "    }\n",
       "\n",
       "    .dataframe tbody tr th {\n",
       "        vertical-align: top;\n",
       "    }\n",
       "\n",
       "    .dataframe thead th {\n",
       "        text-align: right;\n",
       "    }\n",
       "</style>\n",
       "<table border=\"1\" class=\"dataframe\">\n",
       "  <thead>\n",
       "    <tr style=\"text-align: right;\">\n",
       "      <th></th>\n",
       "      <th>Date</th>\n",
       "      <th>Time</th>\n",
       "      <th>Training/Test</th>\n",
       "      <th>Title</th>\n",
       "      <th>Link</th>\n",
       "      <th>Abstract</th>\n",
       "      <th>tweet_id</th>\n",
       "      <th>external_url</th>\n",
       "      <th>tweet_found</th>\n",
       "      <th>user_name</th>\n",
       "      <th>...</th>\n",
       "      <th>user_name_word_News</th>\n",
       "      <th>has_media</th>\n",
       "      <th>question_mark</th>\n",
       "      <th>preds</th>\n",
       "      <th>pred_probs</th>\n",
       "      <th>has_recall</th>\n",
       "      <th>Predicted Event ID</th>\n",
       "      <th>tokens</th>\n",
       "      <th>len</th>\n",
       "      <th>top_3_topic_score</th>\n",
       "    </tr>\n",
       "  </thead>\n",
       "  <tbody>\n",
       "    <tr>\n",
       "      <th>20749</th>\n",
       "      <td>2019-03-14</td>\n",
       "      <td>04:40:44</td>\n",
       "      <td>Test</td>\n",
       "      <td>Genetics of Food Allergy and Intolerance White blood cellular styles decided genetically and targeted as HLA DQ and…</td>\n",
       "      <td>https://twitter.com/tweet/status/1106052519019597825</td>\n",
       "      <td>Genetics of Food Allergy and Intolerance White blood cellular styles decided genetically and targeted as HLA DQ and… https://t.co/du0uK2rFXX</td>\n",
       "      <td>1106052519019597825</td>\n",
       "      <td>https://t.co/du0uK2rFXX</td>\n",
       "      <td>True</td>\n",
       "      <td>didbijckidas</td>\n",
       "      <td>...</td>\n",
       "      <td>False</td>\n",
       "      <td>False</td>\n",
       "      <td>0</td>\n",
       "      <td>True</td>\n",
       "      <td>0.736000</td>\n",
       "      <td>False</td>\n",
       "      <td>0.0</td>\n",
       "      <td>[food, allergy, white, blood, styles, decided, genetically, targeted, genes, recognized, extended, hazard, pollen, dust, meals]</td>\n",
       "      <td>15</td>\n",
       "      <td>[(0, 0.089693313222725), (12, 0.0725992961287079), (14, 0.0725992961287079)]</td>\n",
       "    </tr>\n",
       "    <tr>\n",
       "      <th>15867</th>\n",
       "      <td>2019-03-13</td>\n",
       "      <td>13:31:34</td>\n",
       "      <td>Test</td>\n",
       "      <td>Montreal bakery recalls food as being unsafe https://t.co/gA1dvcrzRr</td>\n",
       "      <td>https://twitter.com/tweet/status/1105823719287484416</td>\n",
       "      <td>Montreal bakery recalls food as being unsafe https://t.co/gA1dvcrzRr https://t.co/bakuQV5JDh</td>\n",
       "      <td>1105823719287484416</td>\n",
       "      <td>https://t.co/bakuQV5JDh</td>\n",
       "      <td>True</td>\n",
       "      <td>CTV Montreal</td>\n",
       "      <td>...</td>\n",
       "      <td>False</td>\n",
       "      <td>True</td>\n",
       "      <td>0</td>\n",
       "      <td>True</td>\n",
       "      <td>0.964088</td>\n",
       "      <td>True</td>\n",
       "      <td>0.0</td>\n",
       "      <td>[montreal, bakery, recalls, food, unsafe]</td>\n",
       "      <td>5</td>\n",
       "      <td>[(0, 0.12418300653594766), (10, 0.07165775401069517), (11, 0.055496137849079016)]</td>\n",
       "    </tr>\n",
       "    <tr>\n",
       "      <th>7071</th>\n",
       "      <td>2019-03-09</td>\n",
       "      <td>00:41:51</td>\n",
       "      <td>Test</td>\n",
       "      <td>RT @FAOWHOCodex: ?? | @SteveWearne Vice-Chair of #CodexAlimentarius at #gfsi19 talking about #food, food allergies, #foodsafety, priorities…</td>\n",
       "      <td>https://twitter.com/tweet/status/1104180463197929472</td>\n",
       "      <td>RT @FAOWHOCodex: ?? | @SteveWearne Vice-Chair of #CodexAlimentarius at #gfsi19 talking about #food, food allergies, #foodsafety, priorities…</td>\n",
       "      <td>1104180463197929472</td>\n",
       "      <td>None</td>\n",
       "      <td>True</td>\n",
       "      <td>Anne Gerardi</td>\n",
       "      <td>...</td>\n",
       "      <td>False</td>\n",
       "      <td>False</td>\n",
       "      <td>2</td>\n",
       "      <td>True</td>\n",
       "      <td>0.668428</td>\n",
       "      <td>False</td>\n",
       "      <td>0.0</td>\n",
       "      <td>[codexalimentarius, talking, food, food, allergies, foodsafety]</td>\n",
       "      <td>6</td>\n",
       "      <td>[(0, 0.10609243697478991), (10, 0.07037815126050419), (1, 0.06839402427637722)]</td>\n",
       "    </tr>\n",
       "    <tr>\n",
       "      <th>7323</th>\n",
       "      <td>2019-03-10</td>\n",
       "      <td>22:14:32</td>\n",
       "      <td>Test</td>\n",
       "      <td>Urgent recall: Tesco, Asda, &amp; Lidl issue food safety fears – FULL LIST of affected foods https://t.co/WhOCGFLwZj</td>\n",
       "      <td>https://twitter.com/tweet/status/1104868164301668352</td>\n",
       "      <td>Urgent recall: Tesco, Asda, &amp; Lidl issue food safety fears – FULL LIST of affected foods https://t.co/WhOCGFLwZj https://t.co/2AKppnHMGG</td>\n",
       "      <td>1104868164301668352</td>\n",
       "      <td>https://t.co/2AKppnHMGG</td>\n",
       "      <td>True</td>\n",
       "      <td>Newslanes</td>\n",
       "      <td>...</td>\n",
       "      <td>False</td>\n",
       "      <td>True</td>\n",
       "      <td>0</td>\n",
       "      <td>True</td>\n",
       "      <td>0.964088</td>\n",
       "      <td>True</td>\n",
       "      <td>0.0</td>\n",
       "      <td>[urgent, recall, asda, lidl, issue, food, safety, fears, full, list, affected, foods]</td>\n",
       "      <td>12</td>\n",
       "      <td>[(0, 0.11016234450769553), (8, 0.09403331224963103), (4, 0.08507273877292854)]</td>\n",
       "    </tr>\n",
       "    <tr>\n",
       "      <th>11617</th>\n",
       "      <td>2019-03-12</td>\n",
       "      <td>21:20:41</td>\n",
       "      <td>Test</td>\n",
       "      <td>so now that alabama wants to be drug test food stamp recipients, let's fondly recall how unsuccessful that was in f…</td>\n",
       "      <td>https://twitter.com/tweet/status/1105579388865785856</td>\n",
       "      <td>so now that alabama wants to be drug test food stamp recipients, let's fondly recall how unsuccessful that was in f… https://t.co/OOf84MpqyG</td>\n",
       "      <td>1105579388865785856</td>\n",
       "      <td>https://t.co/OOf84MpqyG</td>\n",
       "      <td>False</td>\n",
       "      <td></td>\n",
       "      <td>...</td>\n",
       "      <td>False</td>\n",
       "      <td>False</td>\n",
       "      <td>0</td>\n",
       "      <td>True</td>\n",
       "      <td>0.766051</td>\n",
       "      <td>True</td>\n",
       "      <td>0.0</td>\n",
       "      <td>[alabama, wants, drug, test, food, stamp, recipients, let, recall]</td>\n",
       "      <td>9</td>\n",
       "      <td>[(0, 0.08278867102396514), (4, 0.08083935328517372), (11, 0.06524481137484234)]</td>\n",
       "    </tr>\n",
       "  </tbody>\n",
       "</table>\n",
       "<p>5 rows × 51 columns</p>\n",
       "</div>"
      ],
      "text/plain": [
       "             Date      Time Training/Test  \\\n",
       "20749  2019-03-14  04:40:44          Test   \n",
       "15867  2019-03-13  13:31:34          Test   \n",
       "7071   2019-03-09  00:41:51          Test   \n",
       "7323   2019-03-10  22:14:32          Test   \n",
       "11617  2019-03-12  21:20:41          Test   \n",
       "\n",
       "                                                                                                                                              Title  \\\n",
       "20749                          Genetics of Food Allergy and Intolerance White blood cellular styles decided genetically and targeted as HLA DQ and…   \n",
       "15867                                                                          Montreal bakery recalls food as being unsafe https://t.co/gA1dvcrzRr   \n",
       "7071   RT @FAOWHOCodex: ?? | @SteveWearne Vice-Chair of #CodexAlimentarius at #gfsi19 talking about #food, food allergies, #foodsafety, priorities…   \n",
       "7323                               Urgent recall: Tesco, Asda, & Lidl issue food safety fears – FULL LIST of affected foods https://t.co/WhOCGFLwZj   \n",
       "11617                          so now that alabama wants to be drug test food stamp recipients, let's fondly recall how unsuccessful that was in f…   \n",
       "\n",
       "                                                       Link  \\\n",
       "20749  https://twitter.com/tweet/status/1106052519019597825   \n",
       "15867  https://twitter.com/tweet/status/1105823719287484416   \n",
       "7071   https://twitter.com/tweet/status/1104180463197929472   \n",
       "7323   https://twitter.com/tweet/status/1104868164301668352   \n",
       "11617  https://twitter.com/tweet/status/1105579388865785856   \n",
       "\n",
       "                                                                                                                                           Abstract  \\\n",
       "20749  Genetics of Food Allergy and Intolerance White blood cellular styles decided genetically and targeted as HLA DQ and… https://t.co/du0uK2rFXX   \n",
       "15867                                                  Montreal bakery recalls food as being unsafe https://t.co/gA1dvcrzRr https://t.co/bakuQV5JDh   \n",
       "7071   RT @FAOWHOCodex: ?? | @SteveWearne Vice-Chair of #CodexAlimentarius at #gfsi19 talking about #food, food allergies, #foodsafety, priorities…   \n",
       "7323       Urgent recall: Tesco, Asda, & Lidl issue food safety fears – FULL LIST of affected foods https://t.co/WhOCGFLwZj https://t.co/2AKppnHMGG   \n",
       "11617  so now that alabama wants to be drug test food stamp recipients, let's fondly recall how unsuccessful that was in f… https://t.co/OOf84MpqyG   \n",
       "\n",
       "                  tweet_id             external_url tweet_found     user_name  \\\n",
       "20749  1106052519019597825  https://t.co/du0uK2rFXX        True  didbijckidas   \n",
       "15867  1105823719287484416  https://t.co/bakuQV5JDh        True  CTV Montreal   \n",
       "7071   1104180463197929472                     None        True  Anne Gerardi   \n",
       "7323   1104868164301668352  https://t.co/2AKppnHMGG        True     Newslanes   \n",
       "11617  1105579388865785856  https://t.co/OOf84MpqyG       False                 \n",
       "\n",
       "       ... user_name_word_News has_media question_mark  preds pred_probs  \\\n",
       "20749  ...               False     False             0   True   0.736000   \n",
       "15867  ...               False      True             0   True   0.964088   \n",
       "7071   ...               False     False             2   True   0.668428   \n",
       "7323   ...               False      True             0   True   0.964088   \n",
       "11617  ...               False     False             0   True   0.766051   \n",
       "\n",
       "      has_recall Predicted Event ID  \\\n",
       "20749      False                0.0   \n",
       "15867       True                0.0   \n",
       "7071       False                0.0   \n",
       "7323        True                0.0   \n",
       "11617       True                0.0   \n",
       "\n",
       "                                                                                                                                tokens  \\\n",
       "20749  [food, allergy, white, blood, styles, decided, genetically, targeted, genes, recognized, extended, hazard, pollen, dust, meals]   \n",
       "15867                                                                                        [montreal, bakery, recalls, food, unsafe]   \n",
       "7071                                                                   [codexalimentarius, talking, food, food, allergies, foodsafety]   \n",
       "7323                                             [urgent, recall, asda, lidl, issue, food, safety, fears, full, list, affected, foods]   \n",
       "11617                                                               [alabama, wants, drug, test, food, stamp, recipients, let, recall]   \n",
       "\n",
       "      len  \\\n",
       "20749  15   \n",
       "15867   5   \n",
       "7071    6   \n",
       "7323   12   \n",
       "11617   9   \n",
       "\n",
       "                                                                       top_3_topic_score  \n",
       "20749       [(0, 0.089693313222725), (12, 0.0725992961287079), (14, 0.0725992961287079)]  \n",
       "15867  [(0, 0.12418300653594766), (10, 0.07165775401069517), (11, 0.055496137849079016)]  \n",
       "7071     [(0, 0.10609243697478991), (10, 0.07037815126050419), (1, 0.06839402427637722)]  \n",
       "7323      [(0, 0.11016234450769553), (8, 0.09403331224963103), (4, 0.08507273877292854)]  \n",
       "11617    [(0, 0.08278867102396514), (4, 0.08083935328517372), (11, 0.06524481137484234)]  \n",
       "\n",
       "[5 rows x 51 columns]"
      ]
     },
     "execution_count": 65,
     "metadata": {},
     "output_type": "execute_result"
    }
   ],
   "source": [
    "toCsv.sort_values(\"Predicted Event ID\").head(5)"
   ]
  },
  {
   "cell_type": "code",
   "execution_count": 70,
   "metadata": {},
   "outputs": [
    {
     "data": {
      "text/plain": [
       "9.0     241\n",
       "5.0     198\n",
       "7.0     195\n",
       "8.0     159\n",
       "3.0     156\n",
       "11.0    148\n",
       "0.0     135\n",
       "16.0    128\n",
       "13.0    123\n",
       "10.0    123\n",
       "4.0     110\n",
       "1.0     104\n",
       "12.0     91\n",
       "2.0      89\n",
       "6.0      88\n",
       "14.0     78\n",
       "15.0     59\n",
       "Name: Predicted Event ID, dtype: int64"
      ]
     },
     "execution_count": 70,
     "metadata": {},
     "output_type": "execute_result"
    }
   ],
   "source": [
    "toCsv[\"Predicted Event ID\"].value_counts()"
   ]
  },
  {
   "cell_type": "code",
   "execution_count": 66,
   "metadata": {},
   "outputs": [
    {
     "data": {
      "text/plain": [
       "Index(['Date', 'Time', 'Training/Test', 'Title', 'Link', 'Abstract',\n",
       "       'tweet_id', 'external_url', 'tweet_found', 'user_name', 'mentions',\n",
       "       'medias', 'hashtags', 'in_reply_to_status_id',\n",
       "       'in_reply_to_screen_name', 'in_reply_to_status_text',\n",
       "       'external_url_title', 'New_Title', 'ab_clean', 'numbers', 'zero_length',\n",
       "       'nouns', 'neg_noun_I', 'neg_noun_you', 'neg_noun_i', 'neg_noun_me',\n",
       "       'neg_noun_we', 'neg_noun_they', 'neg_noun_It', 'neg_noun_You', 'nnp',\n",
       "       'word_recall', 'word_alert', 'word_allergy', 'word_outbreak',\n",
       "       'hashtag_RECALL', 'hashtag_Recall', 'hashtag_SmartNews',\n",
       "       'mention_googlenews', 'num_words', 'user_name_words',\n",
       "       'user_name_word_News', 'has_media', 'question_mark', 'preds',\n",
       "       'pred_probs', 'has_recall', 'Predicted Event ID', 'tokens', 'len',\n",
       "       'top_3_topic_score'],\n",
       "      dtype='object')"
      ]
     },
     "execution_count": 66,
     "metadata": {},
     "output_type": "execute_result"
    }
   ],
   "source": [
    "toCsv.columns"
   ]
  },
  {
   "cell_type": "code",
   "execution_count": 68,
   "metadata": {},
   "outputs": [],
   "source": [
    "toCsv =  toCsv[[\"New_Title\", \"external_url\", \"pred_probs\", \"Predicted Event ID\", \"top_3_topic_score\",  \"ab_clean\", \"tokens\", \"len\"]]\n",
    "toCsv.sort_values(\"Predicted Event ID\").to_csv(\"17Topics.csv\", index=False)"
   ]
  },
  {
   "cell_type": "code",
   "execution_count": null,
   "metadata": {},
   "outputs": [],
   "source": []
  }
 ],
 "metadata": {
  "kernelspec": {
   "display_name": "Python 3",
   "language": "python",
   "name": "python3"
  },
  "language_info": {
   "codemirror_mode": {
    "name": "ipython",
    "version": 3
   },
   "file_extension": ".py",
   "mimetype": "text/x-python",
   "name": "python",
   "nbconvert_exporter": "python",
   "pygments_lexer": "ipython3",
   "version": "3.7.2"
  }
 },
 "nbformat": 4,
 "nbformat_minor": 2
}

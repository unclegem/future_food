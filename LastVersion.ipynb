{
 "cells": [
  {
   "cell_type": "code",
   "execution_count": 56,
   "metadata": {},
   "outputs": [],
   "source": [
    "import pickle\n",
    "import pandas as pd\n",
    "import numpy as np\n",
    "import nltk\n",
    "import gensim \n",
    "import string\n",
    "from gensim.models import LdaModel\n",
    "import spacy\n",
    "from spacy.tokens import Token\n",
    "from spacy.lang.en.stop_words import STOP_WORDS  # import stop \n",
    "from gensim.corpora import Dictionary\n",
    "import sys\n",
    "import warnings\n",
    "if not sys.warnoptions:\n",
    "    warnings.simplefilter(\"ignore\")\n",
    "nlp = spacy.load(\"en_core_web_sm\")\n",
    "pd.set_option('display.max_colwidth', 500)"
   ]
  },
  {
   "cell_type": "code",
   "execution_count": 2,
   "metadata": {},
   "outputs": [],
   "source": [
    "with open('outputs.pickle', 'rb') as handle:\n",
    "    outputs = pickle.load(handle)\n",
    "train = outputs['df_train_merge']\n",
    "test = outputs['df_test_merge']"
   ]
  },
  {
   "cell_type": "code",
   "execution_count": 3,
   "metadata": {},
   "outputs": [
    {
     "data": {
      "text/plain": [
       "Index(['Date', 'Time', 'Training/Test', 'Title', 'Link', 'Abstract',\n",
       "       'tweet_id', 'external_url', 'tweet_found', 'user_name', 'mentions',\n",
       "       'medias', 'hashtags', 'in_reply_to_status_id',\n",
       "       'in_reply_to_screen_name', 'in_reply_to_status_text',\n",
       "       'external_url_title', 'New_Title', 'ab_clean', 'numbers', 'zero_length',\n",
       "       'nouns', 'neg_noun_I', 'neg_noun_you', 'neg_noun_i', 'neg_noun_me',\n",
       "       'neg_noun_we', 'neg_noun_they', 'neg_noun_It', 'neg_noun_You', 'nnp',\n",
       "       'word_recall', 'word_alert', 'word_allergy', 'word_outbreak',\n",
       "       'hashtag_RECALL', 'hashtag_Recall', 'hashtag_SmartNews',\n",
       "       'mention_googlenews', 'num_words', 'user_name_words',\n",
       "       'user_name_word_News', 'has_media', 'question_mark', 'preds',\n",
       "       'pred_probs', 'has_recall'],\n",
       "      dtype='object')"
      ]
     },
     "execution_count": 3,
     "metadata": {},
     "output_type": "execute_result"
    }
   ],
   "source": [
    "test.columns"
   ]
  },
  {
   "cell_type": "code",
   "execution_count": 4,
   "metadata": {},
   "outputs": [
    {
     "data": {
      "text/plain": [
       "list"
      ]
     },
     "execution_count": 4,
     "metadata": {},
     "output_type": "execute_result"
    }
   ],
   "source": [
    "type(test.ab_clean[0])"
   ]
  },
  {
   "cell_type": "markdown",
   "metadata": {},
   "source": [
    "# 新增Predicted Event ID列"
   ]
  },
  {
   "cell_type": "code",
   "execution_count": 5,
   "metadata": {},
   "outputs": [],
   "source": [
    "test['Predicted Event ID'] = np.NaN"
   ]
  },
  {
   "cell_type": "markdown",
   "metadata": {},
   "source": [
    " # 移除爬取到的title中一些XXX on Twitter等无用词"
   ]
  },
  {
   "cell_type": "code",
   "execution_count": null,
   "metadata": {},
   "outputs": [],
   "source": [
    "# def remove_pre(text):\n",
    "#     text = str(text)\n",
    "#     index = text.find(\":\")\n",
    "#     if index != -1:\n",
    "#         return text[index + 1:]\n",
    "#     else:\n",
    "#         return text"
   ]
  },
  {
   "cell_type": "code",
   "execution_count": null,
   "metadata": {},
   "outputs": [],
   "source": [
    "# test['New_Title'] = test['New_Title'].apply(remove_pre)"
   ]
  },
  {
   "cell_type": "markdown",
   "metadata": {},
   "source": [
    "# 第一次分词：从整个TestSet中找出垃圾词"
   ]
  },
  {
   "cell_type": "code",
   "execution_count": null,
   "metadata": {},
   "outputs": [],
   "source": [
    "# def getTokens_noGarbage(all_command):\n",
    "#     handle_all_command = []\n",
    "#     lines = all_command.tolist()\n",
    "#     stopwords = set(nltk.corpus.stopwords.words(\"english\"))\n",
    "#     table = str.maketrans(\"\",\"\",string.punctuation)\n",
    "#     for line in lines:\n",
    "#         line = \" \".join([word for word in str(line).split(\" \") if '@' not in word and 'http' not in word and \"RT\" not in word])\n",
    "#         tokens = nltk.word_tokenize(line)\n",
    "#         tokens = [w.lower() for w in tokens]\n",
    "#         tokens = [w.translate(table) for w in tokens]\n",
    "#         tokens = [w for w in tokens if w.isalpha()]\n",
    "#         tokens = [w for w in tokens if w not in stopwords]\n",
    "#         handle_all_command.append(tokens)\n",
    "#     return handle_all_command"
   ]
  },
  {
   "cell_type": "code",
   "execution_count": null,
   "metadata": {},
   "outputs": [],
   "source": [
    "# %time tokens = getTokens_noGarbage(test[\"New_Title\"]) "
   ]
  },
  {
   "cell_type": "code",
   "execution_count": 6,
   "metadata": {},
   "outputs": [],
   "source": [
    "tokens = test['ab_clean']"
   ]
  },
  {
   "cell_type": "markdown",
   "metadata": {},
   "source": [
    "## 将词频小于等于3的或者单词长度<3的单词作为垃圾词添"
   ]
  },
  {
   "cell_type": "code",
   "execution_count": 7,
   "metadata": {},
   "outputs": [],
   "source": [
    "from collections import Counter\n",
    "\n",
    "freq = Counter()\n",
    "for ab in tokens:\n",
    "    freq.update(ab)\n",
    "    \n",
    "garbage = []\n",
    "for k, v in freq.items():\n",
    "    if v <= 3 or len(k) < 3:\n",
    "        garbage.append(k)"
   ]
  },
  {
   "cell_type": "markdown",
   "metadata": {},
   "source": [
    "# 对数据进行二次分词，这次剔除掉垃圾词"
   ]
  },
  {
   "cell_type": "code",
   "execution_count": 9,
   "metadata": {},
   "outputs": [
    {
     "name": "stdout",
     "output_type": "stream",
     "text": [
      "CPU times: user 40.8 s, sys: 35.4 ms, total: 40.8 s\n",
      "Wall time: 40.9 s\n"
     ]
    }
   ],
   "source": [
    "%time test['ab_clean'] = test['ab_clean'].apply(lambda text: [xx for xx in text if xx not in garbage])\n",
    "test['len'] = [len(to) for to in test['ab_clean']]"
   ]
  },
  {
   "cell_type": "markdown",
   "metadata": {},
   "source": [
    "# 将所有分词个数<=3的record的预测值置False"
   ]
  },
  {
   "cell_type": "code",
   "execution_count": 10,
   "metadata": {},
   "outputs": [
    {
     "name": "stdout",
     "output_type": "stream",
     "text": [
      "2289 2272\n"
     ]
    }
   ],
   "source": [
    "print(len(test[test['preds'] == True]), len(test[(test['preds'] == True) & (test['len'] > 3)]))"
   ]
  },
  {
   "cell_type": "code",
   "execution_count": 11,
   "metadata": {},
   "outputs": [
    {
     "data": {
      "text/plain": [
       "2272"
      ]
     },
     "execution_count": 11,
     "metadata": {},
     "output_type": "execute_result"
    }
   ],
   "source": [
    "test.loc[test['len'] <= 3, 'preds'] = np.False_\n",
    "len(test[test['preds'] == True])"
   ]
  },
  {
   "cell_type": "markdown",
   "metadata": {},
   "source": [
    "# 找出事件中词频较高并且没有主题意义的单词"
   ]
  },
  {
   "cell_type": "code",
   "execution_count": 12,
   "metadata": {
    "collapsed": true
   },
   "outputs": [
    {
     "data": {
      "text/plain": [
       "[('recall', 2677),\n",
       " ('salmonella', 1583),\n",
       " ('flour', 1201),\n",
       " ('pillsbury', 1123),\n",
       " ('twitter', 958),\n",
       " ('turkey', 614),\n",
       " ('food', 525),\n",
       " ('butterball', 514),\n",
       " ('concern', 500),\n",
       " ('product', 468),\n",
       " ('ground', 468),\n",
       " ('pound', 399),\n",
       " ('case', 360),\n",
       " ('news', 342),\n",
       " ('contamination', 339),\n",
       " ('possible', 335),\n",
       " ('fear', 211),\n",
       " ('alert', 176),\n",
       " ('risk', 157),\n",
       " ('publix', 157),\n",
       " ('dixie', 147),\n",
       " ('winn', 143),\n",
       " ('purpose', 132),\n",
       " ('unbleached', 128),\n",
       " ('safety', 125),\n",
       " ('company', 124),\n",
       " ('announce', 118),\n",
       " ('issue', 117),\n",
       " ('contaminate', 112),\n",
       " ('sell', 112),\n",
       " ('new', 108),\n",
       " ('chicken', 107),\n",
       " ('rice', 101),\n",
       " ('trace', 97),\n",
       " ('select', 96),\n",
       " ('undeclared', 93),\n",
       " ('allergen', 92),\n",
       " ('raw', 92),\n",
       " ('ton', 87),\n",
       " ('hometown', 81),\n",
       " ('outbreak', 78),\n",
       " ('check', 77),\n",
       " ('nationwide', 70),\n",
       " ('chef', 63),\n",
       " ('nearly', 63),\n",
       " ('boyardee', 62),\n",
       " ('march', 61),\n",
       " ('schwarzengrund', 61),\n",
       " ('brand', 58),\n",
       " ('misbrand', 55),\n",
       " ('package', 55),\n",
       " ('cbs', 54),\n",
       " ('fry', 52),\n",
       " ('store', 51),\n",
       " ('health', 48),\n",
       " ('voluntary', 48),\n",
       " ('fox', 47),\n",
       " ('llc', 46),\n",
       " ('report', 45),\n",
       " ('york', 45),\n",
       " ('foodsafety', 44),\n",
       " ('conagra', 44),\n",
       " ('time', 42),\n",
       " ('allergy', 41),\n",
       " ('lot', 41),\n",
       " ('inc', 41),\n",
       " ('kroger', 41),\n",
       " ('story', 38),\n",
       " ('meal', 37),\n",
       " ('include', 36),\n",
       " ('bag', 36),\n",
       " ('cnn', 35),\n",
       " ('consumer', 34),\n",
       " ('business', 34),\n",
       " ('grocer', 34),\n",
       " ('amid', 33),\n",
       " ('coli', 32),\n",
       " ('lion', 32),\n",
       " ('unsafe', 32),\n",
       " ('eat', 31),\n",
       " ('lead', 31),\n",
       " ('usda', 30),\n",
       " ('fda', 29),\n",
       " ('good', 29),\n",
       " ('potential', 29),\n",
       " ('cheese', 29),\n",
       " ('link', 29),\n",
       " ('recallalert', 28),\n",
       " ('launch', 28),\n",
       " ('find', 26),\n",
       " ('nbc', 26),\n",
       " ('popular', 26),\n",
       " ('withdraw', 26),\n",
       " ('contain', 25),\n",
       " ('unbleach', 25),\n",
       " ('affected', 25),\n",
       " ('pantry', 24),\n",
       " ('dog', 23),\n",
       " ('approximately', 23),\n",
       " ('date', 23),\n",
       " ('pilsbury', 23),\n",
       " ('freezer', 23),\n",
       " ('grocery', 22),\n",
       " ('info', 22),\n",
       " ('parent', 22),\n",
       " ('tool', 21),\n",
       " ('chain', 20),\n",
       " ('thousand', 20),\n",
       " ('sausage', 20),\n",
       " ('people', 19),\n",
       " ('home', 19),\n",
       " ('code', 19),\n",
       " ('skillet', 19),\n",
       " ('french', 19),\n",
       " ('agency', 18),\n",
       " ('today', 18),\n",
       " ('bowl', 18),\n",
       " ('important', 18),\n",
       " ('number', 18),\n",
       " ('department', 18),\n",
       " ('share', 18),\n",
       " ('potentially', 17),\n",
       " ('owner', 17),\n",
       " ('diet', 17),\n",
       " ('know', 17),\n",
       " ('standard', 17),\n",
       " ('illness', 17),\n",
       " ('update', 17),\n",
       " ('state', 16),\n",
       " ('nyt', 16),\n",
       " ('water', 15),\n",
       " ('notice', 15),\n",
       " ('help', 15),\n",
       " ('hill', 15),\n",
       " ('limited', 15),\n",
       " ('agriculture', 15),\n",
       " ('april', 15),\n",
       " ('bacteria', 14),\n",
       " ('year', 14),\n",
       " ('action', 14),\n",
       " ('milk', 14),\n",
       " ('label', 14),\n",
       " ('choice', 14),\n",
       " ('montreal', 14),\n",
       " ('pork', 14),\n",
       " ('information', 13),\n",
       " ('safe', 13),\n",
       " ('like', 13),\n",
       " ('fsis', 13),\n",
       " ('late', 13),\n",
       " ('cook', 13),\n",
       " ('jan', 13),\n",
       " ('hoffman', 13),\n",
       " ('guidance', 13),\n",
       " ('tamper', 13),\n",
       " ('inspection', 12),\n",
       " ('thing', 12),\n",
       " ('drug', 12),\n",
       " ('need', 12),\n",
       " ('day', 12),\n",
       " ('organic', 12),\n",
       " ('daily', 12),\n",
       " ('matter', 12),\n",
       " ('live', 12),\n",
       " ('chip', 12),\n",
       " ('miami', 12),\n",
       " ('mislabel', 12),\n",
       " ('prompt', 12),\n",
       " ('bank', 12),\n",
       " ('great', 11),\n",
       " ('life', 11),\n",
       " ('begin', 11),\n",
       " ('pet', 11),\n",
       " ('voluntarily', 11),\n",
       " ('kratom', 11),\n",
       " ('foodrecall', 11),\n",
       " ('service', 11),\n",
       " ('meat', 11),\n",
       " ('establishment', 11),\n",
       " ('learn', 11),\n",
       " ('look', 11),\n",
       " ('harris', 11),\n",
       " ('microwaveable', 11),\n",
       " ('conduct', 11),\n",
       " ('fort', 11),\n",
       " ('follow', 11),\n",
       " ('detect', 11),\n",
       " ('boston', 11),\n",
       " ('bakery', 11),\n",
       " ('video', 10),\n",
       " ('week', 10),\n",
       " ('fast', 10),\n",
       " ('word', 10),\n",
       " ('miss', 10),\n",
       " ('fsa', 10),\n",
       " ('post', 10),\n",
       " ('event', 10),\n",
       " ('impact', 10),\n",
       " ('science', 10),\n",
       " ('certain', 10)]"
      ]
     },
     "execution_count": 12,
     "metadata": {},
     "output_type": "execute_result"
    }
   ],
   "source": [
    "freq2 = Counter()\n",
    "for ab in test.loc[test['preds'] == True, 'ab_clean']:\n",
    "    freq2.update(ab)\n",
    "sorted(freq2.items(), key=lambda x: x[1], reverse=True)[0: 200]"
   ]
  },
  {
   "cell_type": "code",
   "execution_count": 13,
   "metadata": {},
   "outputs": [],
   "source": [
    "no_topic_means_words = [\"food\", \"twitter\", \"recall\", \"news\", \"publix\", \"due\"]"
   ]
  },
  {
   "cell_type": "code",
   "execution_count": 20,
   "metadata": {},
   "outputs": [],
   "source": [
    "test.loc[test['preds'] == True, 'ab_clean'] = [[xx for xx in text if xx not in no_topic_means_words] for text in test[test['preds'] == True]['ab_clean']]"
   ]
  },
  {
   "cell_type": "markdown",
   "metadata": {},
   "source": [
    "# 用LDA模型把preds为True的record进行话题分析"
   ]
  },
  {
   "cell_type": "code",
   "execution_count": 23,
   "metadata": {},
   "outputs": [],
   "source": [
    "all_sent = test[test['preds'] == True]['ab_clean']\n",
    "dic = Dictionary(all_sent)\n",
    "corpus = [dic.doc2bow(text) for text in all_sent]\n",
    "\n",
    "# %time lda = LdaModel(corpus=corpus, id2word=dic, num_topics=14, passes=100, random_state=42) "
   ]
  },
  {
   "cell_type": "code",
   "execution_count": null,
   "metadata": {},
   "outputs": [],
   "source": [
    "# mallet_path = 'mallet-2.0.8/bin/mallet' # update this path"
   ]
  },
  {
   "cell_type": "markdown",
   "metadata": {},
   "source": [
    "# 通过计算coherence来选出得分高的模型"
   ]
  },
  {
   "cell_type": "code",
   "execution_count": 24,
   "metadata": {},
   "outputs": [],
   "source": [
    "from gensim.models import CoherenceModel\n",
    "def compute_coherence_values(dictionary, corpus, texts, limit, start=10, step=1):\n",
    "    \n",
    "    coherence_values = []\n",
    "    model_list = []\n",
    "    for num_topics in range(start, limit + 1, step):\n",
    "        model = LdaModel(corpus=corpus, id2word=dictionary, num_topics=num_topics,alpha=\"auto\", passes=10, random_state=42)\n",
    "        model_list.append(model)\n",
    "        coherencemodel = CoherenceModel(model=model, texts=texts, dictionary=dictionary, coherence='c_v')\n",
    "        coherence_values.append(coherencemodel.get_coherence())\n",
    "\n",
    "    return model_list, coherence_values"
   ]
  },
  {
   "cell_type": "code",
   "execution_count": 25,
   "metadata": {},
   "outputs": [
    {
     "name": "stdout",
     "output_type": "stream",
     "text": [
      "CPU times: user 1min 15s, sys: 746 ms, total: 1min 16s\n",
      "Wall time: 1min 17s\n"
     ]
    }
   ],
   "source": [
    "%time model_list, coherence_values = compute_coherence_values(dictionary=dic, corpus=corpus, texts=all_sent, start=10, limit=20, step=1)\n"
   ]
  },
  {
   "cell_type": "code",
   "execution_count": 27,
   "metadata": {
    "scrolled": true
   },
   "outputs": [
    {
     "data": {
      "image/png": "[encoded data removed]",
      "text/plain": [
       "<Figure size 432x288 with 1 Axes>"
      ]
     },
     "metadata": {
      "needs_background": "light"
     },
     "output_type": "display_data"
    }
   ],
   "source": [
    "import matplotlib.pyplot as plt\n",
    "\n",
    "limit=20; start=10; step=1;\n",
    "x = range(start, limit + 1, step)\n",
    "plt.plot(x, coherence_values)\n",
    "plt.xlabel(\"Num Topics\")\n",
    "plt.ylabel(\"Coherence score\")\n",
    "plt.legend((\"coherence_values\"), loc='best')\n",
    "plt.show()"
   ]
  },
  {
   "cell_type": "markdown",
   "metadata": {},
   "source": [
    "# 取19作为topic数"
   ]
  },
  {
   "cell_type": "code",
   "execution_count": 28,
   "metadata": {},
   "outputs": [],
   "source": [
    "lda = model_list[-2]"
   ]
  },
  {
   "cell_type": "code",
   "execution_count": 47,
   "metadata": {},
   "outputs": [
    {
     "data": {
      "text/plain": [
       "{0: ['turkey', 'salmonella', 'butterball', 'ground', 'pound'],\n",
       " 1: ['fear', 'nbc', 'cbs', 'new', 'york'],\n",
       " 2: ['pillsbury', 'flour', 'salmonella', 'possible', 'contamination'],\n",
       " 3: ['trace', 'flour', 'pillsbury', 'bag', 'salmonella'],\n",
       " 4: ['turkey', 'butterball', 'ground', 'salmonella', 'fear'],\n",
       " 5: ['health', 'allergy', 'follow', 'know', 'life'],\n",
       " 6: ['turkey', 'butterball', 'salmonella', 'ground', 'possible'],\n",
       " 7: ['product', 'allergen', 'undeclared', 'chicken', 'rice'],\n",
       " 8: ['flour', 'pillsbury', 'salmonella', 'concern', 'case'],\n",
       " 9: ['today', 'share', 'allergy', 'let', 'equipment'],\n",
       " 10: ['salmonella', 'coli', 'cheese', 'french', 'safety'],\n",
       " 11: ['chef', 'boyardee', 'chicken', 'department', 'pound'],\n",
       " 12: ['march', 'info', 'live', 'asda', 'allergy'],\n",
       " 13: ['action', 'policy', 'great', 'watch', 'flourrecall'],\n",
       " 14: ['date', 'april', 'foodsafety', 'new', 'metal'],\n",
       " 15: ['product', 'sausage', 'tamper', 'pork', 'contamination'],\n",
       " 16: ['product', 'safety', 'contamination', 'potential', 'fsis'],\n",
       " 17: ['business', 'guidance', 'new', 'multistate', 'safety'],\n",
       " 18: ['flour', 'pillsbury', 'salmonella', 'risk', 'dixie']}"
      ]
     },
     "execution_count": 47,
     "metadata": {},
     "output_type": "execute_result"
    }
   ],
   "source": [
    "word_top5_dic={}\n",
    "for each in lda.print_topics(num_topics=19, num_words=10):\n",
    "    word_top5_dic[each[0]] = [x[x.find('*') + 2: len(x) - 1] for x in each[1].split(' + ')[0:5]]\n",
    "word_top5_dic"
   ]
  },
  {
   "cell_type": "markdown",
   "metadata": {},
   "source": [
    "# 将数据合并到整个TestSet"
   ]
  },
  {
   "cell_type": "code",
   "execution_count": 48,
   "metadata": {},
   "outputs": [],
   "source": [
    "predID = []\n",
    "for x in lda[corpus]:\n",
    "    predID.append(sorted(x, key=lambda y: y[1], reverse=True)[0][0])"
   ]
  },
  {
   "cell_type": "code",
   "execution_count": 49,
   "metadata": {},
   "outputs": [],
   "source": [
    "test.loc[test['preds'] == True, \"Predicted Event ID\"] = predID"
   ]
  },
  {
   "cell_type": "code",
   "execution_count": null,
   "metadata": {},
   "outputs": [],
   "source": [
    "test.sort_values(\"Predicted Event ID\").head(5)"
   ]
  },
  {
   "cell_type": "markdown",
   "metadata": {},
   "source": [
    "# 写入csv文件"
   ]
  },
  {
   "cell_type": "code",
   "execution_count": 102,
   "metadata": {},
   "outputs": [],
   "source": [
    "toCsv = test[test['preds'] == True]"
   ]
  },
  {
   "cell_type": "code",
   "execution_count": 103,
   "metadata": {},
   "outputs": [],
   "source": [
    "top_3_topic_score = []\n",
    "topic_score = []\n",
    "for x in lda[corpus]:\n",
    "    top_3_topic_score.append(sorted(x, key=lambda y: y[1], reverse=True)[0: 3])\n",
    "    topic_score.append(sorted(x, key=lambda y: y[1], reverse=True)[0][1])"
   ]
  },
  {
   "cell_type": "code",
   "execution_count": 104,
   "metadata": {
    "scrolled": true
   },
   "outputs": [],
   "source": [
    "toCsv['top_3_topic_score'] = top_3_topic_score\n",
    "toCsv['topic_score'] = topic_score"
   ]
  },
  {
   "cell_type": "code",
   "execution_count": 105,
   "metadata": {},
   "outputs": [],
   "source": [
    "toCsv['top_word1'] = np.False_\n",
    "toCsv['top_word2'] = np.False_\n",
    "toCsv['top_word3'] = np.False_\n",
    "toCsv['top_word4'] = np.False_\n",
    "toCsv['top_word5'] = np.False_"
   ]
  },
  {
   "cell_type": "code",
   "execution_count": 106,
   "metadata": {},
   "outputs": [],
   "source": [
    "def get_word(row):\n",
    "    text = row['ab_clean']\n",
    "    topic = int(row['Predicted Event ID'])\n",
    "    row['topic_words'] = word_top5_dic[topic]\n",
    "    if word_top5_dic[topic][0] in text:\n",
    "        row['top_word1'] = True\n",
    "    if word_top5_dic[topic][1] in text:\n",
    "        row['top_word2'] = True\n",
    "    if word_top5_dic[topic][2] in text:\n",
    "        row['top_word3'] = True\n",
    "    if word_top5_dic[topic][3] in text:\n",
    "        row['top_word4'] = True\n",
    "    if word_top5_dic[topic][4] in text:\n",
    "        row['top_word5'] = True\n",
    "    return row"
   ]
  },
  {
   "cell_type": "code",
   "execution_count": 107,
   "metadata": {},
   "outputs": [],
   "source": [
    "toCsv = toCsv.apply(get_word, axis=1)"
   ]
  },
  {
   "cell_type": "code",
   "execution_count": 109,
   "metadata": {},
   "outputs": [],
   "source": [
    "toCsv =  toCsv[[\"New_Title\", \"external_url\", \"pred_probs\", \"Predicted Event ID\", \n",
    "                \"topic_score\", \"top_3_topic_score\",  \"ab_clean\",\"topic_words\", \"top_word1\", \"top_word2\",\n",
    "               \"top_word3\", \"top_word4\", \"top_word5\"]]\n"
   ]
  },
  {
   "cell_type": "code",
   "execution_count": 110,
   "metadata": {},
   "outputs": [],
   "source": [
    "toCsv.sort_values([\"Predicted Event ID\", \"topic_score\"], ascending=False).to_csv(\"19Topics.csv\", index=False)"
   ]
  }
 ],
 "metadata": {
  "kernelspec": {
   "display_name": "Python 3",
   "language": "python",
   "name": "python3"
  },
  "language_info": {
   "codemirror_mode": {
    "name": "ipython",
    "version": 3
   },
   "file_extension": ".py",
   "mimetype": "text/x-python",
   "name": "python",
   "nbconvert_exporter": "python",
   "pygments_lexer": "ipython3",
   "version": "3.7.2"
  }
 },
 "nbformat": 4,
 "nbformat_minor": 2
}

{
 "cells": [
  {
   "cell_type": "code",
   "execution_count": 1,
   "metadata": {},
   "outputs": [],
   "source": [
    "import pandas as pd\n",
    "import numpy as np\n",
    "import nltk\n",
    "import gensim\n",
    "import string"
   ]
  },
  {
   "cell_type": "code",
   "execution_count": 2,
   "metadata": {},
   "outputs": [],
   "source": [
    "test = pd.read_csv(\"test_with_scraping.csv\")\n",
    "train = pd.read_csv(\"train_with_scraping.csv\")"
   ]
  },
  {
   "cell_type": "markdown",
   "metadata": {},
   "source": [
    "## 加载垃圾词"
   ]
  },
  {
   "cell_type": "code",
   "execution_count": 3,
   "metadata": {},
   "outputs": [],
   "source": [
    "import pickle\n",
    "fr = open(\"garbage.txt\", 'rb')\n",
    "garbage = pickle.load(fr)\n",
    "fr.close()"
   ]
  },
  {
   "cell_type": "code",
   "execution_count": 4,
   "metadata": {},
   "outputs": [],
   "source": [
    "garbage = [t[0] for t in garbage]"
   ]
  },
  {
   "cell_type": "markdown",
   "metadata": {},
   "source": [
    "## 在训练集探索特征"
   ]
  },
  {
   "cell_type": "code",
   "execution_count": 5,
   "metadata": {},
   "outputs": [],
   "source": [
    "train['Event ID'] = train['Event ID'].fillna(0)\n",
    "train.loc[train[\"Abstract\"].isnull(), 'Abstract'] = train[train[\"Abstract\"].isnull()]['Title']\n",
    "train.loc[train['in_reply_to_status_text'].notnull(), 'Abstract'] = train[train['in_reply_to_status_text'].notnull()]['in_reply_to_status_text']"
   ]
  },
  {
   "cell_type": "code",
   "execution_count": 6,
   "metadata": {},
   "outputs": [],
   "source": [
    "def getTokens(all_command):\n",
    "    handle_all_command = []\n",
    "    lines = all_command.tolist()\n",
    "    stopwords = set(nltk.corpus.stopwords.words(\"english\"))\n",
    "    table = str.maketrans(\"\",\"\",string.punctuation)\n",
    "    for line in lines:\n",
    "        line = \" \".join([word for word in str(line).split(\" \") if '@' not in word and 'http' not in word and \"RT\" not in word])\n",
    "        tokens = nltk.word_tokenize(line)\n",
    "        tokens = [w.lower() for w in tokens]\n",
    "        tokens = [w.translate(table) for w in tokens]\n",
    "        tokens = [w for w in tokens if w.isalpha()]\n",
    "        tokens = [w for w in tokens if w not in stopwords and w not in garbage]\n",
    "        handle_all_command.append(tokens)\n",
    "    return handle_all_command"
   ]
  },
  {
   "cell_type": "code",
   "execution_count": 7,
   "metadata": {},
   "outputs": [
    {
     "name": "stdout",
     "output_type": "stream",
     "text": [
      "CPU times: user 20.2 s, sys: 49.7 ms, total: 20.3 s\n",
      "Wall time: 20.4 s\n"
     ]
    }
   ],
   "source": [
    "%time train_token = getTokens(train.Abstract)"
   ]
  },
  {
   "cell_type": "code",
   "execution_count": 8,
   "metadata": {},
   "outputs": [],
   "source": [
    "train['len'] = [len(l) for l in train_token]\n",
    "train = train[train['len'] > 3]"
   ]
  },
  {
   "cell_type": "markdown",
   "metadata": {},
   "source": [
    "## 处理好train后，进行explore"
   ]
  },
  {
   "cell_type": "markdown",
   "metadata": {},
   "source": [
    "### 判断问句"
   ]
  },
  {
   "cell_type": "code",
   "execution_count": 9,
   "metadata": {},
   "outputs": [],
   "source": [
    "ab_y0 = train[train['Event ID'] == 0]['Abstract']\n",
    "ab_y1 = train[train['Event ID'] > 0]['Abstract']"
   ]
  },
  {
   "cell_type": "code",
   "execution_count": 10,
   "metadata": {
    "scrolled": true
   },
   "outputs": [
    {
     "name": "stdout",
     "output_type": "stream",
     "text": [
      "食物相关带问号比例： 4.480164158686731 %\n",
      "非食物相关带问号比例： 22.17391304347826 %\n"
     ]
    }
   ],
   "source": [
    "y1_withMark = sum([1 for text in ab_y1 if \"?\" in text])\n",
    "y0_withMark = sum([1 for text in ab_y0 if \"?\" in text])\n",
    "print(\"食物相关带问号比例：\", y1_withMark * 100 / len(ab_y1), \"%\")\n",
    "print(\"非食物相关带问号比例：\", y0_withMark * 100 / len(ab_y0), \"%\")"
   ]
  },
  {
   "cell_type": "markdown",
   "metadata": {},
   "source": [
    "### 查看首个单词字母小写的影响"
   ]
  },
  {
   "cell_type": "code",
   "execution_count": 11,
   "metadata": {},
   "outputs": [],
   "source": [
    "def counter(all_command):\n",
    "    res=[]\n",
    "    lines = all_command.tolist()\n",
    "    table = str.maketrans(\"\",\"\",string.punctuation)\n",
    "    for line in lines:\n",
    "        line = \" \".join([word for word in str(line).split(\" \") if '@' not in word and 'http' not in word and \"RT\" not in word])\n",
    "        tokens = nltk.word_tokenize(line)\n",
    "        tokens = [w.translate(table) for w in tokens]\n",
    "        tokens = [w for w in tokens if w.isalpha()]\n",
    "        res.append(True if tokens[0][0].islower() else False)\n",
    "    return res\n"
   ]
  },
  {
   "cell_type": "code",
   "execution_count": 12,
   "metadata": {},
   "outputs": [
    {
     "name": "stdout",
     "output_type": "stream",
     "text": [
      "CPU times: user 1.16 s, sys: 4.55 ms, total: 1.17 s\n",
      "Wall time: 1.17 s\n"
     ]
    },
    {
     "data": {
      "text/plain": [
       "214"
      ]
     },
     "execution_count": 12,
     "metadata": {},
     "output_type": "execute_result"
    }
   ],
   "source": [
    "%time train['isLower'] = counter(train['Abstract'])\n",
    "len(train[train['isLower']])"
   ]
  },
  {
   "cell_type": "code",
   "execution_count": 13,
   "metadata": {},
   "outputs": [],
   "source": [
    "lower_y0 = train[train['Event ID'] == 0]['isLower']\n",
    "lower_y1 = train[train['Event ID'] > 0]['isLower']"
   ]
  },
  {
   "cell_type": "code",
   "execution_count": 14,
   "metadata": {},
   "outputs": [
    {
     "name": "stdout",
     "output_type": "stream",
     "text": [
      "食物相关首字母小写比例： 3.3043478260869565 %\n",
      "非食物相关首字母小写比例： 6.019151846785226 %\n"
     ]
    }
   ],
   "source": [
    "y1_isLower = sum([1 for x in lower_y1 if x == True])\n",
    "y0_isLower = sum([1 for x in lower_y0 if x == True])\n",
    "print(\"食物相关首字母小写比例：\", y1_isLower * 100 / len(lower_y0), \"%\")\n",
    "print(\"非食物相关首字母小写比例：\", y0_isLower * 100 / len(lower_y1), \"%\")"
   ]
  },
  {
   "cell_type": "markdown",
   "metadata": {},
   "source": [
    "## 处理测试集"
   ]
  },
  {
   "cell_type": "code",
   "execution_count": 15,
   "metadata": {},
   "outputs": [
    {
     "name": "stdout",
     "output_type": "stream",
     "text": [
      "CPU times: user 1min 8s, sys: 184 ms, total: 1min 8s\n",
      "Wall time: 1min 8s\n"
     ]
    }
   ],
   "source": [
    "%time test_token = getTokens(test.Abstract)\n",
    "test['len'] = [len(l) for l in test_token]"
   ]
  },
  {
   "cell_type": "code",
   "execution_count": 16,
   "metadata": {},
   "outputs": [],
   "source": [
    "test = test[test['len'] > 3]"
   ]
  },
  {
   "cell_type": "code",
   "execution_count": 17,
   "metadata": {},
   "outputs": [
    {
     "data": {
      "text/plain": [
       "3664"
      ]
     },
     "execution_count": 17,
     "metadata": {},
     "output_type": "execute_result"
    }
   ],
   "source": [
    "sum([1 for text in test.Abstract.astype(str) if \"?\" in text])"
   ]
  }
 ],
 "metadata": {
  "kernelspec": {
   "display_name": "Python 3",
   "language": "python",
   "name": "python3"
  },
  "language_info": {
   "codemirror_mode": {
    "name": "ipython",
    "version": 3
   },
   "file_extension": ".py",
   "mimetype": "text/x-python",
   "name": "python",
   "nbconvert_exporter": "python",
   "pygments_lexer": "ipython3",
   "version": "3.7.2"
  }
 },
 "nbformat": 4,
 "nbformat_minor": 2
}
